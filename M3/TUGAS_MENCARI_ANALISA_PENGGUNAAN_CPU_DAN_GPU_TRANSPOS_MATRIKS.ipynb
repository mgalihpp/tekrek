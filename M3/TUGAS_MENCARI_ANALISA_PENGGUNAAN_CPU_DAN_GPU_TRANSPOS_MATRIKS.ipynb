{
  "cells": [
    {
      "cell_type": "code",
      "source": [
        "import numpy as np\n",
        "import cupy as cp\n",
        "import time\n",
        "\n",
        "# Ukuran matriks\n",
        "rows = 1000\n",
        "cols = 1000\n",
        "\n",
        "# Buat matriks acak menggunakan NumPy\n",
        "np_matrix = np.random.rand(rows, cols)\n",
        "\n",
        "# Transpos matriks dengan NumPy\n",
        "start_time_np = time.time()\n",
        "np_transpose = np.transpose(np_matrix)\n",
        "end_time_np = time.time()\n",
        "np_execution_time = end_time_np - start_time_np\n",
        "\n",
        "# Konversi matriks NumPy ke CuPy\n",
        "cp_matrix = cp.asarray(np_matrix)\n",
        "\n",
        "# Transpos matriks dengan CuPy\n",
        "start_time_cp = time.time()\n",
        "cp_transpose = cp.transpose(cp_matrix)\n",
        "cp.cuda.Stream.null.synchronize()  # Pastikan transpos selesai\n",
        "end_time_cp = time.time()\n",
        "cp_execution_time = end_time_cp - start_time_cp\n",
        "\n",
        "# Tampilkan waktu eksekusi\n",
        "print(\"Waktu eksekusi NumPy (CPU):\", np_execution_time, \"detik\")\n",
        "print(\"Waktu eksekusi CuPy (GPU):\", cp_execution_time, \"detik\")\n"
      ],
      "metadata": {
        "colab": {
          "base_uri": "https://localhost:8080/"
        },
        "id": "d4rnarCsZOz7",
        "outputId": "a3a78e38-2ed8-4bd8-89b0-318a96e80e2e"
      },
      "execution_count": null,
      "outputs": [
        {
          "output_type": "stream",
          "name": "stdout",
          "text": [
            "Waktu eksekusi NumPy (CPU): 6.771087646484375e-05 detik\n",
            "Waktu eksekusi CuPy (GPU): 0.0005981922149658203 detik\n"
          ]
        }
      ]
    }
  ],
  "metadata": {
    "accelerator": "GPU",
    "colab": {
      "provenance": []
    },
    "kernelspec": {
      "display_name": "Python 3",
      "name": "python3"
    },
    "language_info": {
      "name": "python"
    }
  },
  "nbformat": 4,
  "nbformat_minor": 0
}