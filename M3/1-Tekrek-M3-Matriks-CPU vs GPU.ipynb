{
 "cells": [
  {
   "cell_type": "code",
   "execution_count": null,
   "metadata": {
    "id": "lrVd9Z5Sa8hD"
   },
   "outputs": [],
   "source": [
    "import time\n",
    "import cupy as cp\n",
    "import numpy as np"
   ]
  },
  {
   "cell_type": "code",
   "execution_count": null,
   "metadata": {
    "colab": {
     "base_uri": "https://localhost:8080/"
    },
    "executionInfo": {
     "elapsed": 1696,
     "status": "ok",
     "timestamp": 1633351673662,
     "user": {
      "displayName": "dgx recruitment",
      "photoUrl": "https://lh3.googleusercontent.com/a/default-user=s64",
      "userId": "14163373928735978024"
     },
     "user_tz": -420
    },
    "id": "gfg_aaCCbE59",
    "outputId": "cdee7247-8355-4d47-e6b9-ca7d37587da0"
   },
   "outputs": [
    {
     "name": "stdout",
     "output_type": "stream",
     "text": [
      "Waktu CPU : 1.4515495300292969 detik\n"
     ]
    }
   ],
   "source": [
    "s = time.time()\n",
    "m_cpu = np.random.randint(10, size=(100000,1000))\n",
    "e = time.time()\n",
    "print(\"Waktu CPU :\", e - s, \"detik\")"
   ]
  },
  {
   "cell_type": "code",
   "execution_count": null,
   "metadata": {
    "colab": {
     "base_uri": "https://localhost:8080/"
    },
    "executionInfo": {
     "elapsed": 33,
     "status": "ok",
     "timestamp": 1633351673664,
     "user": {
      "displayName": "dgx recruitment",
      "photoUrl": "https://lh3.googleusercontent.com/a/default-user=s64",
      "userId": "14163373928735978024"
     },
     "user_tz": -420
    },
    "id": "j3MVpLo4Vg-z",
    "outputId": "8d7ba607-b150-4adb-af8d-8bb90902085a"
   },
   "outputs": [
    {
     "name": "stdout",
     "output_type": "stream",
     "text": [
      "Waktu GPU : 0.06703567504882812 detik\n"
     ]
    }
   ],
   "source": [
    "s = time.time()\n",
    "m_gpu = cp.random.randint(10, size=(100000,1000))\n",
    "cp.cuda.Stream.null.synchronize()\n",
    "e = time.time()\n",
    "print(\"Waktu GPU :\", e - s, \"detik\")"
   ]
  },
  {
   "cell_type": "code",
   "execution_count": null,
   "metadata": {
    "colab": {
     "base_uri": "https://localhost:8080/"
    },
    "executionInfo": {
     "elapsed": 29,
     "status": "ok",
     "timestamp": 1633351673666,
     "user": {
      "displayName": "dgx recruitment",
      "photoUrl": "https://lh3.googleusercontent.com/a/default-user=s64",
      "userId": "14163373928735978024"
     },
     "user_tz": -420
    },
    "id": "ea0oJVkVbLM5",
    "outputId": "c09394b0-457e-4fb4-cdfe-a5f927b28291"
   },
   "outputs": [
    {
     "name": "stdout",
     "output_type": "stream",
     "text": [
      "Waktu CPU : 0.035001277923583984 detik\n"
     ]
    }
   ],
   "source": [
    "s = time.time()\n",
    "A = np.random.randint(10, size=(1000,1000))\n",
    "B = np.random.randint(10, size=(1000,1000))\n",
    "C = A + B  \n",
    "e = time.time()\n",
    "print(\"Waktu CPU :\", e - s, \"detik\")"
   ]
  },
  {
   "cell_type": "code",
   "execution_count": null,
   "metadata": {
    "colab": {
     "base_uri": "https://localhost:8080/"
    },
    "executionInfo": {
     "elapsed": 23,
     "status": "ok",
     "timestamp": 1633351673668,
     "user": {
      "displayName": "dgx recruitment",
      "photoUrl": "https://lh3.googleusercontent.com/a/default-user=s64",
      "userId": "14163373928735978024"
     },
     "user_tz": -420
    },
    "id": "9F3VHtlhbLtE",
    "outputId": "ddf35acf-bf88-4169-b750-d2de4665cd6b"
   },
   "outputs": [
    {
     "name": "stdout",
     "output_type": "stream",
     "text": [
      "Waktu GPU : 0.003203868865966797 detik\n"
     ]
    }
   ],
   "source": [
    "s = time.time()\n",
    "A = cp.random.randint(10, size=(1000,1000))\n",
    "B = cp.random.randint(10, size=(1000,1000))\n",
    "C = A + B  \n",
    "cp.cuda.Stream.null.synchronize()\n",
    "e = time.time()\n",
    "print(\"Waktu GPU :\", e - s, \"detik\")"
   ]
  },
  {
   "cell_type": "code",
   "execution_count": null,
   "metadata": {
    "colab": {
     "base_uri": "https://localhost:8080/"
    },
    "executionInfo": {
     "elapsed": 1552,
     "status": "ok",
     "timestamp": 1633351675202,
     "user": {
      "displayName": "dgx recruitment",
      "photoUrl": "https://lh3.googleusercontent.com/a/default-user=s64",
      "userId": "14163373928735978024"
     },
     "user_tz": -420
    },
    "id": "lj9brvNlbRBo",
    "outputId": "90929aec-7cbb-442d-f764-76cdd21eacbb"
   },
   "outputs": [
    {
     "name": "stdout",
     "output_type": "stream",
     "text": [
      "Waktu CPU : 1.447923183441162 detik\n"
     ]
    }
   ],
   "source": [
    "s = time.time()\n",
    "A = np.random.randint(10, size=(1000,1000))\n",
    "B = np.random.randint(10, size=(1000,1000))\n",
    "C = A.dot(B)\n",
    "e = time.time()\n",
    "print(\"Waktu CPU :\", e - s, \"detik\")"
   ]
  },
  {
   "cell_type": "code",
   "execution_count": null,
   "metadata": {
    "colab": {
     "base_uri": "https://localhost:8080/"
    },
    "executionInfo": {
     "elapsed": 25,
     "status": "ok",
     "timestamp": 1633351675205,
     "user": {
      "displayName": "dgx recruitment",
      "photoUrl": "https://lh3.googleusercontent.com/a/default-user=s64",
      "userId": "14163373928735978024"
     },
     "user_tz": -420
    },
    "id": "L-JARwA0bTI9",
    "outputId": "57b52d67-da22-42c6-9377-23a783a144f9"
   },
   "outputs": [
    {
     "name": "stdout",
     "output_type": "stream",
     "text": [
      "Waktu GPU : 0.02433037757873535 detik\n"
     ]
    }
   ],
   "source": [
    "s = time.time()\n",
    "A = cp.random.randint(10, size=(1000,1000))\n",
    "B = cp.random.randint(10, size=(1000,1000))\n",
    "C = A.dot(B)\n",
    "cp.cuda.Stream.null.synchronize()\n",
    "e = time.time()\n",
    "print(\"Waktu GPU :\", e - s, \"detik\")"
   ]
  }
 ],
 "metadata": {
  "accelerator": "GPU",
  "colab": {
   "provenance": []
  },
  "kernelspec": {
   "display_name": "Python 3",
   "name": "python3"
  },
  "language_info": {
   "name": "python"
  }
 },
 "nbformat": 4,
 "nbformat_minor": 0
}
