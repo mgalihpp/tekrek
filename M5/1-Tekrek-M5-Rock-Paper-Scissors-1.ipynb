{
 "cells": [
  {
   "cell_type": "markdown",
   "metadata": {},
   "source": [
    "# Rock-Paper-Scissors 1\n",
    "\n",
    "Permainan Rock, Paper dan Scissors atau permainan gunting, batu, kertas. Permainan ini merupakan permainan tangan yang dilakukan oleh dua orang pemain. Permainan ini sering digunakan untuk pemilihan acak, seperti halnya pelemparan koin, dadu, dan lain-lain.\n",
    "\n",
    "Aturan permainan ini sederhana yaitu : Aturan standar adalah batu mengalahkan gunting, gunting mengalahkan kertas, dan kertas mengalahkan batu.\n",
    "\n",
    "Pada praktikum kali ini Anda akan melakukan simulasi permainan gunting, batu dan kertas dengan tiga skenario yang berbeda. \n",
    "\n",
    "Perhatikan kode program berikut ini. "
   ]
  },
  {
   "cell_type": "code",
   "execution_count": 1,
   "metadata": {},
   "outputs": [
    {
     "name": "stdout",
     "output_type": "stream",
     "text": [
      "\n",
      "\n",
      "Your choice: paper\n",
      "Computer's choice: paper\n",
      "\n",
      "It's a tie!\n",
      "\n",
      "You have 0 wins\n",
      "The computer has 0 wins\n",
      "\n"
     ]
    }
   ],
   "source": [
    "import random\n",
    "\n",
    "input(\"Welcome to Rock, Paper, Scissors! Press Enter to start.\")\n",
    "print()\n",
    "user_wins = 0\n",
    "computer_wins = 0\n",
    "\n",
    "choices = [\"rock\", \"paper\", \"scissors\"]\n",
    "\n",
    "while True:\n",
    "  random_index = random.randint(0,2)\n",
    "  cpu_choice = choices[random_index]\n",
    "    \n",
    "  user_choice = input(\"Rock, Paper, or Scissors? \").lower()\n",
    "  while user_choice not in choices:\n",
    "    user_choice = input(\"That is not a valid choice. Please try again: \").lower()\n",
    "    \n",
    "  print()\n",
    "  print(\"Your choice:\", user_choice)\n",
    "  print(\"Computer's choice:\", cpu_choice)\n",
    "  print()\n",
    "    \n",
    "  if user_choice == 'rock':\n",
    "    if cpu_choice == 'rock':\n",
    "      print(\"It's a tie!\")\n",
    "    elif cpu_choice == 'scissors':\n",
    "      print(\"You win!\")\n",
    "      user_wins+=1\n",
    "    elif cpu_choice == 'paper':\n",
    "      print(\"You lose!\")\n",
    "      computer_wins+=1\n",
    "  elif user_choice == 'paper':\n",
    "    if cpu_choice == 'paper':\n",
    "      print(\"It's a tie!\")\n",
    "    elif cpu_choice == 'rock':\n",
    "      print(\"You win!\")\n",
    "      user_wins+=1\n",
    "    elif cpu_choice == 'scissors':\n",
    "      print(\"You lose!\")\n",
    "      computer_wins+=1\n",
    "  elif user_choice == 'scissors':\n",
    "    if cpu_choice == 'scissors':\n",
    "      print(\"It's a tie!\")\n",
    "    elif cpu_choice == 'paper':\n",
    "      print(\"You win!\")\n",
    "      user_wins+=1\n",
    "    elif cpu_choice == 'rock':\n",
    "      print(\"You lose!\")\n",
    "      computer_wins+=1\n",
    "        \n",
    "  print()\n",
    "  print(\"You have \"+str(user_wins)+\" wins\")\n",
    "  print(\"The computer has \"+str(computer_wins)+\" wins\")\n",
    "  print()\n",
    "\n",
    "  repeat = input(\"Play again? (Y/N) \").lower()\n",
    "  while repeat not in ['y', 'n']:\n",
    "    repeat = input(\"That is not a valid choice. Please try again: \").lower()\n",
    "  \n",
    "  if repeat == 'n':\n",
    "    print(\"Bye bye\")   \n",
    "    break\n",
    "\n",
    "  print(\"\\n----------------------------\\n\")\n",
    "\n"
   ]
  },
  {
   "cell_type": "code",
   "execution_count": null,
   "metadata": {},
   "outputs": [],
   "source": []
  }
 ],
 "metadata": {
  "kernelspec": {
   "display_name": "Python 3",
   "language": "python",
   "name": "python3"
  },
  "language_info": {
   "codemirror_mode": {
    "name": "ipython",
    "version": 3
   },
   "file_extension": ".py",
   "mimetype": "text/x-python",
   "name": "python",
   "nbconvert_exporter": "python",
   "pygments_lexer": "ipython3",
   "version": "3.9.0"
  }
 },
 "nbformat": 4,
 "nbformat_minor": 4
}
