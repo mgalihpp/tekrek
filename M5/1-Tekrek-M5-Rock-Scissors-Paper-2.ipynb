{
 "cells": [
  {
   "cell_type": "markdown",
   "metadata": {},
   "source": [
    "# Game Rock-Scissors-Paper 2\n",
    "\n",
    "Dalam praktikum kali ini, Anda akan melakukan permainan Rock-Scissors-Paper dengan komputer seperti yang telah Anda lakukan pada file Rock-Scissors-Paper-1\n",
    "\n",
    "Cermati perbedaan program ini. "
   ]
  },
  {
   "cell_type": "markdown",
   "metadata": {},
   "source": [
    "### 1. Mendefinisikan variabel yang dibutuhkan "
   ]
  },
  {
   "cell_type": "code",
   "execution_count": null,
   "metadata": {},
   "outputs": [],
   "source": [
    "from random import randrange\n",
    "\n",
    "#The lists will be understood when you go further into the code\n",
    "Player_Options=[\"1\",\"2\",\"3\"]\n",
    "Choices=[\"rock.\",\"paper.\",\"scissors.\"]\n",
    "AI_Loses=[\"scissors.\",\"rock.\",\"paper.\"]\n",
    "AI_Wins=[\"paper.\",\"scissors.\",\"rock.\"]### 1. Mendefinisikan variabel yang dibutuhkan \n",
    "Difficulties=Player_Options\n"
   ]
  },
  {
   "cell_type": "markdown",
   "metadata": {},
   "source": [
    "### 2. Mendefinisikan fungsi\n",
    "Pada bagian ini Anda mendefinisikan fungsi untuk menentukan pemain mana yang akan memenangkan permainan"
   ]
  },
  {
   "cell_type": "code",
   "execution_count": null,
   "metadata": {},
   "outputs": [],
   "source": [
    "\n",
    "#AI will not choose, each difficulty has a different probability of outcome\n",
    "#AI's roll will result in a win, lose or draw\n",
    "\n",
    "def Play(x,y):\n",
    "\tif AI in range(1,x):\n",
    "\t\tWin()\n",
    "\telif AI in range(x,y):\n",
    "\t\tDraw()\n",
    "\telse:\n",
    "\t\tLose()\n",
    "\n",
    "#AI's roll will result in the outcome, we manipulate AI's choice using indexing\n",
    "#Hence why the lists were arranged in that manner\n",
    "def Win():\n",
    "    Message(Choices,AI_Loses,\"You win!\")\n",
    "\n",
    "def Draw():\n",
    "    Message(Choices,Choices,\"It's a draw!\")\n",
    "\n",
    "def Lose():\n",
    "    Message(Choices,AI_Wins,\"You lost!\")\n",
    "    \n",
    "def Message(PlayerChoice,AIChoice,OutcomeMessage):\n",
    "    print(\"You chose\",PlayerChoice[P1ayer],\"AI chose\",AIChoice[P1ayer])\n",
    "    print(OutcomeMessage)"
   ]
  },
  {
   "cell_type": "markdown",
   "metadata": {},
   "source": [
    "#### Menjalankan Program"
   ]
  },
  {
   "cell_type": "code",
   "execution_count": null,
   "metadata": {},
   "outputs": [],
   "source": [
    "#Here is where the game starts\n",
    "while True:\n",
    "\n",
    "    #AI rolls, Player chooses Difficulty\n",
    "    while True:\n",
    "        AI=randrange(1,11)\n",
    "        print(\"1 Easy, 2 Medium, 3 Hard\")\n",
    "        Difficulty=input(\"Select Difficulty\")\n",
    "        if Difficulty in Difficulties:\n",
    "            Diff=int(Difficulty)\n",
    "\n",
    "            #Easy\n",
    "            if Diff==1:\n",
    "                print(\"Easy difficulty!\")\n",
    "                while True:\n",
    "                    Player=input(\"1:Rock, 2:Paper, 3:Scissors\")\n",
    "                    if Player in Player_Options:\n",
    "                        P1ayer=int(Player)-1\n",
    "                        Play(6,9)\n",
    "                        break\n",
    "                    else:\n",
    "                        continue\n",
    "\n",
    "            elif Diff==2:\n",
    "                print(\"Medium difficulty!\")\n",
    "                while True:\n",
    "                    Player=input(\"1:Rock, 2:Paper, 3:Scissors\")\n",
    "                    if Player in Player_Options:\n",
    "                        P1ayer=int(Player)-1\n",
    "                        Play(5,7)\n",
    "                        break\n",
    "                    else:\n",
    "                        continue\n",
    "\n",
    "            else:\n",
    "                print(\"Hard difficulty!\")\n",
    "                while True:\n",
    "                    Player=input(\"1:Rock, 2:Paper, 3:Scissors\")\n",
    "                    if Player in Player_Options:\n",
    "                        P1ayer=int(Player)-1\n",
    "                        Play(4,7)\n",
    "                        break\n",
    "                    else:\n",
    "                        continue                \n",
    "            break\n",
    "    \n",
    "        else:\n",
    "            continue #Player didn't choose valid difficulty\n",
    "    \n",
    "    Replay=input(\"Enter X to quit, Enter any key to play again.\")\n",
    "    if Replay==\"x\" or Replay==\"X\":\n",
    "        print(\"Bye bye\") \n",
    "        break"
   ]
  },
  {
   "cell_type": "code",
   "execution_count": null,
   "metadata": {},
   "outputs": [],
   "source": []
  }
 ],
 "metadata": {
  "kernelspec": {
   "display_name": "Python 3",
   "language": "python",
   "name": "python3"
  },
  "language_info": {
   "codemirror_mode": {
    "name": "ipython",
    "version": 3
   },
   "file_extension": ".py",
   "mimetype": "text/x-python",
   "name": "python",
   "nbconvert_exporter": "python",
   "pygments_lexer": "ipython3",
   "version": "3.6.9"
  }
 },
 "nbformat": 4,
 "nbformat_minor": 4
}
